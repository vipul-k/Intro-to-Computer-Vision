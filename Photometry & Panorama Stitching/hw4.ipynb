{
 "cells": [
  {
   "cell_type": "code",
   "execution_count": null,
   "metadata": {},
   "outputs": [],
   "source": [
    "from __future__ import division, print_function\n",
    "%matplotlib inline\n",
    "import numpy as np\n",
    "import matplotlib.pyplot as plt\n",
    "import glob\n",
    "from imageio import imread, imsave\n",
    "from mpl_toolkits.axes_grid1 import ImageGrid\n",
    "\n",
    "from skimage.color import rgb2gray\n",
    "import skimage.io as io\n",
    "from skimage.feature import plot_matches"
   ]
  },
  {
   "cell_type": "markdown",
   "metadata": {},
   "source": [
    "# Homework 4"
   ]
  },
  {
   "cell_type": "code",
   "execution_count": null,
   "metadata": {},
   "outputs": [],
   "source": [
    "def plot_imageset(images, figsize=(12, 10)):\n",
    "    fig = plt.figure(figsize=figsize)\n",
    "    grid = ImageGrid(fig, 111, nrows_ncols=(1, 3), axes_pad=0.1)\n",
    "\n",
    "    for ax, im in zip(grid, images):\n",
    "        ax.set_axis_off()\n",
    "        if len(im.shape) < 3:\n",
    "            ax.imshow(im, cmap='gray')\n",
    "        else:\n",
    "            ax.imshow(im)\n",
    "\n",
    "    plt.show()"
   ]
  },
  {
   "cell_type": "markdown",
   "metadata": {},
   "source": [
    "### Load and preprocess images"
   ]
  },
  {
   "cell_type": "code",
   "execution_count": null,
   "metadata": {},
   "outputs": [],
   "source": [
    "\n",
    "pano_paths = sorted(glob.glob('data/JDW_03*'))\n",
    "\n",
    "pano_imgs = [imread(path) for path in pano_paths]\n",
    "\n",
    "plot_imageset(pano_imgs)"
   ]
  },
  {
   "cell_type": "code",
   "execution_count": null,
   "metadata": {},
   "outputs": [],
   "source": [
    "# Convert to grayscale\n",
    "pano0, pano1, pano2 = [rgb2gray(im) for im in pano_imgs]\n",
    "plot_imageset([pano0, pano1, pano2], figsize=(12, 10))"
   ]
  },
  {
   "cell_type": "markdown",
   "metadata": {},
   "source": [
    "# Detect features and plot matches"
   ]
  },
  {
   "cell_type": "code",
   "execution_count": null,
   "metadata": {},
   "outputs": [],
   "source": [
    " from skimage.feature import ORB\n",
    "\n",
    "# skimage\n",
    "#orb = ORB(n_keypoints=800, fast_threshold=0.05)\n",
    "\n",
    "#cv2 \n",
    "#orb = cv2.ORB_create()\n",
    "#sift = cv2.SIFT_create()\n",
    "\n",
    "# skimage\n",
    "#orb.detect_and_extract(pano0)\n",
    "#keypoints0 = orb.keypoints\n",
    "#descriptors0 = orb.descriptors\n",
    "\n",
    "# cv2\n",
    "#keypoints0, descriptors0 = orb.detectAndCompute(pano0, None)"
   ]
  },
  {
   "cell_type": "code",
   "execution_count": null,
   "metadata": {},
   "outputs": [],
   "source": [
    "# Match the descriptors \n",
    "\n",
    "# skimage: from skimage.feature import match_descriptors\n",
    "# opencv: easiest is probably cv2.BFMatcher"
   ]
  },
  {
   "cell_type": "code",
   "execution_count": null,
   "metadata": {},
   "outputs": [],
   "source": [
    "# do this for both 0->1 and 2->1"
   ]
  },
  {
   "cell_type": "markdown",
   "metadata": {},
   "source": [
    "# Homography + RANSAC"
   ]
  },
  {
   "cell_type": "code",
   "execution_count": null,
   "metadata": {},
   "outputs": [],
   "source": [
    "# skimage functions to look at:\n",
    "from skimage.transform import ProjectiveTransform\n",
    "from skimage.measure import ransac\n",
    "\n",
    "\n",
    "#opencv: cv2.findHomography with cv2.RANSAC"
   ]
  },
  {
   "cell_type": "code",
   "execution_count": null,
   "metadata": {},
   "outputs": [],
   "source": [
    "# plotting the inliers for homography estimation with ransac.  looks much better!"
   ]
  },
  {
   "cell_type": "markdown",
   "metadata": {},
   "source": [
    "# Panorama Warp\n"
   ]
  },
  {
   "cell_type": "code",
   "execution_count": null,
   "metadata": {},
   "outputs": [],
   "source": [
    "# Shape of middle image, our registration target\n",
    "r, c = pano1.shape[:2]\n",
    "\n",
    "# Note that transformations take coordinates in (x, y) format,\n",
    "# not (row, column), in order to be consistent with most literature\n",
    "corners = np.array([[0, 0],\n",
    "                    [0, r],\n",
    "                    [c, 0],\n",
    "                    [c, r]])\n",
    "\n",
    "# Warp the image corners to their new positions\n",
    "warped_corners01 = # apply transform0->1 to corners\n",
    "warped_corners12 = # apply transform1->2 to corners\n",
    "\n",
    "# Find the extents of both the reference image and the warped\n",
    "# target image\n",
    "all_corners = np.vstack((warped_corners01, warped_corners12, corners))\n",
    "\n",
    "# The overall output shape will be max - min\n",
    "corner_min = np.min(all_corners, axis=0)\n",
    "corner_max = np.max(all_corners, axis=0)\n",
    "output_shape = (corner_max - corner_min)\n",
    "\n",
    "# Ensure integer shape with np.ceil and dtype conversion\n",
    "output_shape = np.ceil(output_shape[::-1]).astype(int)"
   ]
  },
  {
   "cell_type": "markdown",
   "metadata": {},
   "source": [
    "### Applying the warps"
   ]
  },
  {
   "cell_type": "code",
   "execution_count": null,
   "metadata": {},
   "outputs": [],
   "source": [
    "from skimage.transform import warp\n",
    "from skimage.transform import SimilarityTransform\n",
    "from cv2 import warpAffine\n",
    "from cv2 import warpPerspective\n",
    "\n",
    "\n",
    "# Use one of the quantities computed above to find the correct offset for middle image\n",
    "offset1 = #\n",
    "\n",
    "# Translate pano1 into place\n",
    "pano1_warped = # apply offset with an affine transform function, make sure the correct output_shape is specified\n",
    "\n",
    "# Get the validity mask for this image\n",
    "pano1_mask = # "
   ]
  },
  {
   "cell_type": "code",
   "execution_count": null,
   "metadata": {},
   "outputs": [],
   "source": [
    "# Warp the left image into place\n",
    "pano0_warped = #\n",
    "pano0_mask = #"
   ]
  },
  {
   "cell_type": "code",
   "execution_count": null,
   "metadata": {},
   "outputs": [],
   "source": [
    "# Warp the right image into place\n",
    "pano2_warped = #\n",
    "pano2_mask = #"
   ]
  },
  {
   "cell_type": "markdown",
   "metadata": {},
   "source": [
    "# Blend images into panorama"
   ]
  },
  {
   "cell_type": "code",
   "execution_count": null,
   "metadata": {},
   "outputs": [],
   "source": [
    "# use [pano0_warped, pano1_warped, pano2_warped] and [pano0_mask, pano1_mask, pano2_mask]\n",
    "# to obtain normalized panorama image"
   ]
  },
  {
   "cell_type": "code",
   "execution_count": null,
   "metadata": {},
   "outputs": [],
   "source": [
    "fig, ax = plt.subplots(figsize=(12, 12))\n",
    "\n",
    "ax.imshow(normalized, cmap='gray')\n",
    "\n",
    "plt.tight_layout()\n",
    "ax.axis('off')"
   ]
  }
 ],
 "metadata": {
  "kernelspec": {
   "display_name": "Python 3",
   "language": "python",
   "name": "python3"
  },
  "language_info": {
   "codemirror_mode": {
    "name": "ipython",
    "version": 3
   },
   "file_extension": ".py",
   "mimetype": "text/x-python",
   "name": "python",
   "nbconvert_exporter": "python",
   "pygments_lexer": "ipython3",
   "version": "3.7.7"
  }
 },
 "nbformat": 4,
 "nbformat_minor": 1
}
